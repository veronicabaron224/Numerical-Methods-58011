{
  "nbformat": 4,
  "nbformat_minor": 0,
  "metadata": {
    "colab": {
      "name": "Final Exam - Problem 3",
      "provenance": [],
      "authorship_tag": "ABX9TyMaTE4GnlIOSO29csrfoFNy",
      "include_colab_link": true
    },
    "kernelspec": {
      "name": "python3",
      "display_name": "Python 3"
    },
    "language_info": {
      "name": "python"
    }
  },
  "cells": [
    {
      "cell_type": "markdown",
      "metadata": {
        "id": "view-in-github",
        "colab_type": "text"
      },
      "source": [
        "<a href=\"https://colab.research.google.com/github/veronicabaron224/Numerical-Methods-58011/blob/main/Final_Exam_Problem_3.ipynb\" target=\"_parent\"><img src=\"https://colab.research.google.com/assets/colab-badge.svg\" alt=\"Open In Colab\"/></a>"
      ]
    },
    {
      "cell_type": "markdown",
      "source": [
        "Problem 3. Create a Python program that integrates the function f(x) = ex  from x1=-1 to x2 = 1 as the interval. Save your program to your repository and send your GitHub link here. (30 points)"
      ],
      "metadata": {
        "id": "8A8nbF2AvFPU"
      }
    },
    {
      "cell_type": "code",
      "execution_count": 7,
      "metadata": {
        "id": "RiBJ2MzOiI3c",
        "colab": {
          "base_uri": "https://localhost:8080/"
        },
        "outputId": "29b6ae5b-1384-4759-a6e5-c7556a4992f5"
      },
      "outputs": [
        {
          "output_type": "stream",
          "name": "stdout",
          "text": [
            "Integral = 0.1\n"
          ]
        }
      ],
      "source": [
        "from math import e\n",
        "def f(x): return e**x\n",
        "\n",
        "a = -1\n",
        "b = 1\n",
        "n = 10\n",
        "h = (b-a)/n\n",
        "S = h * (f(a)+f(b))\n",
        "for i in range (1,n):\n",
        "  S+=(a+i*h)\n",
        "Integral = h*S\n",
        "print('Integral = %.1f' %Integral)"
      ]
    }
  ]
}